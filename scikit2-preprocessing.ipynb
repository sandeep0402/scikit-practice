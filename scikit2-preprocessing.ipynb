{
 "cells": [
  {
   "cell_type": "code",
   "execution_count": 9,
   "id": "1cde918f",
   "metadata": {},
   "outputs": [],
   "source": [
    "import numpy as np\n",
    "import pandas as pd\n",
    "from sklearn import preprocessing as pp\n",
    "\n",
    " "
   ]
  },
  {
   "cell_type": "code",
   "execution_count": 2,
   "id": "0429488f",
   "metadata": {},
   "outputs": [],
   "source": [
    "df = pd.read_csv(\"/home/sandeep/Desktop/scikit-practice/data/000_example.csv\")"
   ]
  },
  {
   "cell_type": "code",
   "execution_count": 5,
   "id": "9a3bff76",
   "metadata": {},
   "outputs": [],
   "source": [
    "group = df['Group'].values"
   ]
  },
  {
   "cell_type": "code",
   "execution_count": 7,
   "id": "1812d19c",
   "metadata": {},
   "outputs": [],
   "source": [
    "features = df[['F1', 'F2', 'F3']].values"
   ]
  },
  {
   "cell_type": "code",
   "execution_count": 15,
   "id": "27831e94",
   "metadata": {},
   "outputs": [],
   "source": [
    "features = features.astype(float)"
   ]
  },
  {
   "cell_type": "code",
   "execution_count": 17,
   "id": "ad4dbd84",
   "metadata": {},
   "outputs": [
    {
     "data": {
      "text/plain": [
       "array([[ 2.44948974,  0.8660254 ,  1.15470054],\n",
       "       [-0.40824829,  0.8660254 , -0.8660254 ],\n",
       "       [-0.40824829, -1.15470054, -0.8660254 ],\n",
       "       [-0.40824829, -1.15470054, -0.8660254 ],\n",
       "       [-0.40824829,  0.8660254 , -0.8660254 ],\n",
       "       [-0.40824829,  0.8660254 ,  1.15470054],\n",
       "       [-0.40824829, -1.15470054,  1.15470054]])"
      ]
     },
     "execution_count": 17,
     "metadata": {},
     "output_type": "execute_result"
    }
   ],
   "source": [
    "pp.scale(features)"
   ]
  },
  {
   "cell_type": "code",
   "execution_count": 24,
   "id": "15d5846f",
   "metadata": {},
   "outputs": [],
   "source": [
    "measurements = [\n",
    "     {'city': 'Dubai', 'temperature': 33.},\n",
    "     {'city': 'London', 'temperature': 12.},\n",
    "     {'city': 'San Fransisco', 'temperature': 18.},\n",
    " ]"
   ]
  },
  {
   "cell_type": "code",
   "execution_count": 19,
   "id": "ad63f7fc",
   "metadata": {},
   "outputs": [
    {
     "data": {
      "text/plain": [
       "[{'city': 'Dubai', 'temperature': 33.0},\n",
       " {'city': 'Dubai', 'temperature': 12.0},\n",
       " {'city': 'San Fransisco', 'temperature': 18.0}]"
      ]
     },
     "execution_count": 19,
     "metadata": {},
     "output_type": "execute_result"
    }
   ],
   "source": [
    "measurements"
   ]
  },
  {
   "cell_type": "code",
   "execution_count": 20,
   "id": "6347254e-5119-477a-b633-65d3cbdcdac4",
   "metadata": {},
   "outputs": [],
   "source": [
    "from sklearn.feature_extraction import DictVectorizer as dv"
   ]
  },
  {
   "cell_type": "code",
   "execution_count": 21,
   "id": "ec86efe9-cd4e-45dd-933b-be425bea99a0",
   "metadata": {},
   "outputs": [],
   "source": [
    "vec = dv()"
   ]
  },
  {
   "cell_type": "code",
   "execution_count": 25,
   "id": "a0ff8d89-bed1-431d-9bb9-19e00fc6e5b9",
   "metadata": {},
   "outputs": [
    {
     "data": {
      "text/plain": [
       "array([[ 1.,  0.,  0., 33.],\n",
       "       [ 0.,  1.,  0., 12.],\n",
       "       [ 0.,  0.,  1., 18.]])"
      ]
     },
     "execution_count": 25,
     "metadata": {},
     "output_type": "execute_result"
    }
   ],
   "source": [
    "vec.fit_transform(measurements).toarray()"
   ]
  },
  {
   "cell_type": "code",
   "execution_count": 26,
   "id": "343d9621-0b35-4c6d-9e79-226c57a493aa",
   "metadata": {},
   "outputs": [
    {
     "data": {
      "text/plain": [
       "['city=Dubai', 'city=London', 'city=San Fransisco', 'temperature']"
      ]
     },
     "execution_count": 26,
     "metadata": {},
     "output_type": "execute_result"
    }
   ],
   "source": [
    "vec.get_feature_names()"
   ]
  },
  {
   "cell_type": "code",
   "execution_count": 27,
   "id": "8ff0f339-8c2d-4876-a480-98a69bb18ac2",
   "metadata": {},
   "outputs": [],
   "source": [
    "from sklearn.naive_bayes import BernoulliNB as nb"
   ]
  },
  {
   "cell_type": "code",
   "execution_count": 29,
   "id": "8e5663f0-a58a-4328-a0e1-5d611760bfa4",
   "metadata": {},
   "outputs": [],
   "source": [
    "clf = nb()"
   ]
  },
  {
   "cell_type": "code",
   "execution_count": 31,
   "id": "5b5a0daa-fd52-47bf-bea7-dce80bf76a1a",
   "metadata": {},
   "outputs": [
    {
     "data": {
      "text/plain": [
       "BernoulliNB()"
      ]
     },
     "execution_count": 31,
     "metadata": {},
     "output_type": "execute_result"
    }
   ],
   "source": [
    "clf.fit(features, group)"
   ]
  },
  {
   "cell_type": "code",
   "execution_count": 32,
   "id": "5fd038fe-1f3c-411c-9aaf-a33b030249da",
   "metadata": {},
   "outputs": [
    {
     "data": {
      "text/plain": [
       "BernoulliNB()"
      ]
     },
     "execution_count": 32,
     "metadata": {},
     "output_type": "execute_result"
    }
   ],
   "source": [
    "nb(alpha=1.0, binarize=0.0, class_prior=None, fit_prior=True)"
   ]
  },
  {
   "cell_type": "code",
   "execution_count": 33,
   "id": "c3246f0b-c5ef-4896-bfaa-f325ce3c4932",
   "metadata": {},
   "outputs": [
    {
     "name": "stdout",
     "output_type": "stream",
     "text": [
      "[1 0 0 0 0 1 1]\n"
     ]
    }
   ],
   "source": [
    "print(clf.predict(features))"
   ]
  },
  {
   "cell_type": "code",
   "execution_count": 34,
   "id": "94c66905-84ee-4c7b-b4ad-966b7af7c90b",
   "metadata": {},
   "outputs": [
    {
     "name": "stdout",
     "output_type": "stream",
     "text": [
      "[[0.1394148  0.8605852 ]\n",
      " [0.72160356 0.27839644]\n",
      " [0.63343109 0.36656891]\n",
      " [0.63343109 0.36656891]\n",
      " [0.72160356 0.27839644]\n",
      " [0.24471299 0.75528701]\n",
      " [0.17763158 0.82236842]]\n"
     ]
    }
   ],
   "source": [
    "print(clf.predict_proba(features))"
   ]
  },
  {
   "cell_type": "code",
   "execution_count": 35,
   "id": "b89017c1-cde2-42c6-8234-07086d58bf34",
   "metadata": {},
   "outputs": [],
   "source": [
    "X = np.random.randint(5, size=(6, 3))\n",
    "y = np.array([1, 2, 3, 4, 5, 6])\n"
   ]
  },
  {
   "cell_type": "code",
   "execution_count": 36,
   "id": "2adcc222-5220-4c35-bba9-fa91adc73090",
   "metadata": {},
   "outputs": [],
   "source": [
    "from sklearn.naive_bayes import MultinomialNB as mnb"
   ]
  },
  {
   "cell_type": "code",
   "execution_count": 37,
   "id": "abf9057e-2276-4d62-a0b4-92303015e0f7",
   "metadata": {},
   "outputs": [],
   "source": [
    "clf1 = mnb()"
   ]
  },
  {
   "cell_type": "code",
   "execution_count": 38,
   "id": "bbcc88a3-69f5-4e16-b8dd-b942ea6e01c1",
   "metadata": {},
   "outputs": [
    {
     "data": {
      "text/plain": [
       "MultinomialNB()"
      ]
     },
     "execution_count": 38,
     "metadata": {},
     "output_type": "execute_result"
    }
   ],
   "source": [
    "clf1.fit(X, y)"
   ]
  },
  {
   "cell_type": "code",
   "execution_count": 39,
   "id": "c665d8c5-5797-4e8d-8f4a-630cbbf01c62",
   "metadata": {},
   "outputs": [
    {
     "data": {
      "text/plain": [
       "MultinomialNB()"
      ]
     },
     "execution_count": 39,
     "metadata": {},
     "output_type": "execute_result"
    }
   ],
   "source": [
    "mnb(alpha=1.0, class_prior=None, fit_prior=True)"
   ]
  },
  {
   "cell_type": "code",
   "execution_count": 40,
   "id": "85811c4b-1f37-415f-af60-2bf186328182",
   "metadata": {},
   "outputs": [
    {
     "name": "stdout",
     "output_type": "stream",
     "text": [
      "[[0.28321262 0.20622913 0.13772004 0.0619386  0.02121699 0.28968262]\n",
      " [0.22505776 0.29134588 0.12629661 0.14766039 0.02775357 0.1818858 ]\n",
      " [0.13274279 0.12888046 0.31557721 0.10322079 0.1988896  0.12068916]\n",
      " [0.08331247 0.15798513 0.15255942 0.29992489 0.24380421 0.06241388]\n",
      " [0.03286506 0.06647669 0.17507366 0.18930277 0.51293746 0.02334435]\n",
      " [0.27080419 0.184869   0.15214774 0.06580542 0.034235   0.29213866]]\n"
     ]
    }
   ],
   "source": [
    "print(clf1.predict_proba(X))"
   ]
  },
  {
   "cell_type": "code",
   "execution_count": 43,
   "id": "167937d5-6c55-47fe-984e-533fa45ebb0e",
   "metadata": {},
   "outputs": [
    {
     "data": {
      "text/plain": [
       "MultinomialNB()"
      ]
     },
     "execution_count": 43,
     "metadata": {},
     "output_type": "execute_result"
    }
   ],
   "source": [
    "XX = np.random.randint(5, size=(6, 3))\n",
    "yy = np.array([1, 2, 3, 4, 5, 6])\n",
    "clf1.partial_fit(XX,yy)"
   ]
  },
  {
   "cell_type": "code",
   "execution_count": 44,
   "id": "8fb4d007-bc07-405b-a1f7-90c0cfb9c02d",
   "metadata": {},
   "outputs": [
    {
     "name": "stdout",
     "output_type": "stream",
     "text": [
      "[[0.09890427 0.90109573]\n",
      " [0.09890427 0.90109573]\n",
      " [0.09890427 0.90109573]\n",
      " [0.09890427 0.90109573]\n",
      " [0.52326468 0.47673532]\n",
      " [0.09890427 0.90109573]]\n"
     ]
    }
   ],
   "source": [
    "print(clf.predict_proba(X))"
   ]
  },
  {
   "cell_type": "code",
   "execution_count": null,
   "id": "ea34516e-92e0-4807-a23a-f9bbc8cf0abf",
   "metadata": {},
   "outputs": [],
   "source": []
  }
 ],
 "metadata": {
  "kernelspec": {
   "display_name": "Python 3",
   "language": "python",
   "name": "python3"
  },
  "language_info": {
   "codemirror_mode": {
    "name": "ipython",
    "version": 3
   },
   "file_extension": ".py",
   "mimetype": "text/x-python",
   "name": "python",
   "nbconvert_exporter": "python",
   "pygments_lexer": "ipython3",
   "version": "3.8.8"
  }
 },
 "nbformat": 4,
 "nbformat_minor": 5
}
