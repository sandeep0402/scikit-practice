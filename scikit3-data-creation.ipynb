{
 "cells": [
  {
   "cell_type": "code",
   "execution_count": 1,
   "id": "84738056-277d-4d1f-92a9-0a88a2b32fc4",
   "metadata": {},
   "outputs": [],
   "source": [
    "import matplotlib.pyplot as plt\n",
    "import numpy as np\n",
    "from sklearn import datasets"
   ]
  },
  {
   "cell_type": "code",
   "execution_count": 6,
   "id": "b78576c5-9750-41cc-9e97-ed875b15c11e",
   "metadata": {},
   "outputs": [],
   "source": [
    "xx=datasets.make_classification(n_samples=50, n_features=2,n_classes=2,n_clusters_per_class=2,\n",
    "                                    n_informative=2, n_redundant=0,\n",
    "                                    random_state=6)\n"
   ]
  },
  {
   "cell_type": "code",
   "execution_count": 12,
   "id": "5fd4daaf-ea02-46e4-a3a9-2ba7e6a7a411",
   "metadata": {},
   "outputs": [
    {
     "data": {
      "text/plain": [
       "[<matplotlib.lines.Line2D at 0x7f6999b17580>]"
      ]
     },
     "execution_count": 12,
     "metadata": {},
     "output_type": "execute_result"
    },
    {
     "data": {
      "image/png": "[encoded data removed]",
      "text/plain": [
       "<Figure size 432x288 with 1 Axes>"
      ]
     },
     "metadata": {
      "needs_background": "light"
     },
     "output_type": "display_data"
    }
   ],
   "source": [
    "plt.plot(xx[0][:,0], xx[0][:,1], 'k.', markersize=3)"
   ]
  },
  {
   "cell_type": "code",
   "execution_count": 8,
   "id": "3715af75-85b9-4371-b45b-131f3567affa",
   "metadata": {},
   "outputs": [],
   "source": [
    "X, y = datasets.make_blobs(n_samples=1000, centers=2, n_features=2,\n",
    "                   random_state=14)\n"
   ]
  },
  {
   "cell_type": "code",
   "execution_count": 9,
   "id": "eb03106c-fd4f-4a3d-9ee5-076a6977e247",
   "metadata": {},
   "outputs": [
    {
     "data": {
      "image/png": "[encoded data removed]",
      "text/plain": [
       "<Figure size 432x288 with 1 Axes>"
      ]
     },
     "metadata": {
      "needs_background": "light"
     },
     "output_type": "display_data"
    }
   ],
   "source": [
    "plt.plot(X[np.where((y==0)), 0], X[np.where((y==0)), 1], 'k.', markersize=3, c='b')\n",
    "plt.plot(X[np.where((y==1)), 0], X[np.where((y==1)), 1], 'k.', markersize=3, c='r')\n",
    "plt.show()  "
   ]
  },
  {
   "cell_type": "code",
   "execution_count": 10,
   "id": "3d772ebc-1970-4b90-aac8-c0880e6209b4",
   "metadata": {},
   "outputs": [],
   "source": [
    "Q = datasets.make_regression(n_samples=25, n_features=2, n_informative=2, n_targets=1, bias=0.0,\n",
    "                             effective_rank=None, tail_strength=0.5, noise=0.0,\n",
    "                             shuffle=True, coef=False, random_state=1)"
   ]
  },
  {
   "cell_type": "code",
   "execution_count": 11,
   "id": "e87bb0b0-10ea-4465-adbf-291620a5e303",
   "metadata": {},
   "outputs": [
    {
     "data": {
      "text/plain": [
       "(array([[ 0.58281521,  0.04221375],\n",
       "        [-0.7612069 ,  1.74481176],\n",
       "        [-0.39675353, -0.69166075],\n",
       "        [-2.06014071,  1.46210794],\n",
       "        [ 0.2344157 , -1.11731035],\n",
       "        [-0.38405435, -0.3224172 ],\n",
       "        [-0.0126646 , -0.67124613],\n",
       "        [ 0.53035547, -0.26788808],\n",
       "        [-0.87785842, -0.17242821],\n",
       "        [ 2.10025514,  0.19091548],\n",
       "        [-1.07296862, -0.52817175],\n",
       "        [ 0.74204416,  1.65980218],\n",
       "        [ 1.14472371, -1.10061918],\n",
       "        [-0.61175641,  1.62434536],\n",
       "        [-2.3015387 ,  0.86540763],\n",
       "        [ 0.61720311,  0.12015895],\n",
       "        [-0.84520564, -0.6871727 ],\n",
       "        [ 1.6924546 , -0.74715829],\n",
       "        [-0.93576943, -0.12289023],\n",
       "        [-0.63699565,  0.05080775],\n",
       "        [-1.09989127,  1.13376944],\n",
       "        [-0.24937038,  0.3190391 ],\n",
       "        [-0.88762896, -0.19183555],\n",
       "        [ 0.50249434,  0.90159072],\n",
       "        [-0.68372786,  0.90085595]]),\n",
       " array([ 11.82583287, 147.16195961, -67.93912216, 103.76538761,\n",
       "        -97.71540802, -34.40700784, -60.81461022, -16.91001433,\n",
       "        -27.64552992,  46.1205368 , -62.46574165, 160.14807672,\n",
       "        -83.69309194, 138.33356806,  46.54075584,  19.34016427,\n",
       "        -73.69875289, -44.2314538 , -23.96638912,  -4.16709651,\n",
       "         87.30422591,  25.39384118, -29.53311347,  88.35790444,\n",
       "         71.98397048]))"
      ]
     },
     "execution_count": 11,
     "metadata": {},
     "output_type": "execute_result"
    }
   ],
   "source": []
  },
  {
   "cell_type": "code",
   "execution_count": null,
   "id": "3725926c-b996-4369-bfab-9338dd265372",
   "metadata": {},
   "outputs": [],
   "source": []
  }
 ],
 "metadata": {
  "kernelspec": {
   "display_name": "Python 3",
   "language": "python",
   "name": "python3"
  },
  "language_info": {
   "codemirror_mode": {
    "name": "ipython",
    "version": 3
   },
   "file_extension": ".py",
   "mimetype": "text/x-python",
   "name": "python",
   "nbconvert_exporter": "python",
   "pygments_lexer": "ipython3",
   "version": "3.8.8"
  }
 },
 "nbformat": 4,
 "nbformat_minor": 5
}
